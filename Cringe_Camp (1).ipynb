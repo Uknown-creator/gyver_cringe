{
  "nbformat": 4,
  "nbformat_minor": 0,
  "metadata": {
    "colab": {
      "provenance": []
    },
    "kernelspec": {
      "name": "python3",
      "display_name": "Python 3"
    },
    "language_info": {
      "name": "python"
    }
  },
  "cells": [
    {
      "cell_type": "markdown",
      "source": [
        "# Устанавливаем пакеты и включаем их"
      ],
      "metadata": {
        "id": "qpw-ZFgZUqG-"
      }
    },
    {
      "cell_type": "code",
      "execution_count": null,
      "metadata": {
        "id": "PrE5GIGfTbRs"
      },
      "outputs": [],
      "source": [
        "# !pip3 install tensorflow numpy matplotlib"
      ]
    },
    {
      "cell_type": "code",
      "source": [
        "import cv2\n",
        "import pathlib\n",
        "import tensorflow as tf\n",
        "import numpy as np\n",
        "import matplotlib.pyplot as plt\n",
        "from tensorflow.keras.layers import Dense\n",
        "from tensorflow.keras.models import Model\n",
        "from tensorflow.keras.callbacks import Callback, ModelCheckpoint,EarlyStopping, ReduceLROnPlateau\n",
        "from tensorflow.keras.preprocessing.image import ImageDataGenerator\n",
        "from keras.applications.mobilenet_v2 import MobileNetV2\n",
        "from tensorflow.keras.applications import mobilenet_v2\n",
        "from tensorflow.keras import layers"
      ],
      "metadata": {
        "id": "iPea-LeZU5UI"
      },
      "execution_count": null,
      "outputs": []
    },
    {
      "cell_type": "markdown",
      "source": [
        "# Загружаем датасет"
      ],
      "metadata": {
        "id": "AetetZCzWT2M"
      }
    },
    {
      "cell_type": "code",
      "source": [
        "# !unzip training_data.zip\n",
        "# !unzip validation_data.zip"
      ],
      "metadata": {
        "id": "dTfPXuWbouNX"
      },
      "execution_count": null,
      "outputs": []
    },
    {
      "cell_type": "code",
      "source": [
        "train_dir = pathlib.Path(\"training_data/\")\n",
        "test_dir = pathlib.Path(\"validation_data/\")\n",
        "val_dir = pathlib.Path(\"validation_data/\")\n",
        "img_height = 256\n",
        "img_width = 256"
      ],
      "metadata": {
        "id": "U96JWxMoWgLF"
      },
      "execution_count": null,
      "outputs": []
    },
    {
      "cell_type": "code",
      "source": [
        "train_ds = tf.keras.utils.image_dataset_from_directory(train_dir)\n",
        "test_ds = tf.keras.utils.image_dataset_from_directory(test_dir)\n",
        "val_ds = tf.keras.utils.image_dataset_from_directory(val_dir)\n",
        "\n",
        "class_names = dict(zip(train_ds.class_names, range(len(train_ds.class_names))))\n",
        "num_classes = len(class_names)"
      ],
      "metadata": {
        "colab": {
          "base_uri": "https://localhost:8080/"
        },
        "id": "akGQwQXeL4U2",
        "outputId": "cc039ed3-0393-4ac8-eb1c-dece8ebfc4d0"
      },
      "execution_count": null,
      "outputs": [
        {
          "output_type": "stream",
          "name": "stdout",
          "text": [
            "Found 296 files belonging to 46 classes.\n",
            "Found 44 files belonging to 46 classes.\n",
            "Found 44 files belonging to 46 classes.\n"
          ]
        }
      ]
    },
    {
      "cell_type": "markdown",
      "source": [
        "# Преобразование датасета"
      ],
      "metadata": {
        "id": "4cK9vJuHMY_O"
      }
    },
    {
      "cell_type": "code",
      "source": [
        "train_generator = ImageDataGenerator(\n",
        "    preprocessing_function = mobilenet_v2.preprocess_input,\n",
        "    rotation_range = 32,\n",
        "    zoom_range = 0.2,\n",
        "    width_shift_range = 0.2,\n",
        "    height_shift_range = 0.2,\n",
        "    shear_range = 0.2,\n",
        "    horizontal_flip = True,\n",
        "    fill_mode = \"nearest\"\n",
        ")"
      ],
      "metadata": {
        "id": "csSI1SWiMdZ9"
      },
      "execution_count": null,
      "outputs": []
    },
    {
      "cell_type": "code",
      "source": [
        "test = train_generator.flow_from_directory(\n",
        "    test_dir,\n",
        "    target_size = (224,224),\n",
        "    color_mode = \"rgb\",\n",
        "    class_mode = \"categorical\",\n",
        "    batch_size = 32,\n",
        "    shuffle = False\n",
        ")\n",
        "train = train_generator.flow_from_directory(\n",
        "    train_dir,\n",
        "    target_size = (img_height, img_width),\n",
        "    color_mode = \"rgb\",\n",
        "    class_mode = \"categorical\",\n",
        "    batch_size = 32,\n",
        "    shuffle = True,\n",
        "    seed = 123\n",
        ")\n",
        "\n",
        "validation = train_generator.flow_from_directory(\n",
        "    val_dir,\n",
        "    target_size = (img_height, img_width),\n",
        "    color_mode = \"rgb\",\n",
        "    class_mode = \"categorical\",\n",
        "    batch_size = 32,\n",
        "    shuffle = True,\n",
        "    seed = 123\n",
        ")"
      ],
      "metadata": {
        "colab": {
          "base_uri": "https://localhost:8080/"
        },
        "id": "qcKu9YtVMtwH",
        "outputId": "ed627acd-da1e-45a6-e088-a5494505890b"
      },
      "execution_count": null,
      "outputs": [
        {
          "output_type": "stream",
          "name": "stdout",
          "text": [
            "Found 44 images belonging to 46 classes.\n",
            "Found 296 images belonging to 46 classes.\n",
            "Found 44 images belonging to 46 classes.\n"
          ]
        }
      ]
    },
    {
      "cell_type": "markdown",
      "source": [
        "# МЯУ МОДЕЛЬ"
      ],
      "metadata": {
        "id": "TDRUs7fSOPN1"
      }
    },
    {
      "cell_type": "code",
      "source": [
        "mobilenet_ = MobileNetV2(\n",
        "    input_shape = (img_height, img_width, 3),\n",
        "    include_top = False,\n",
        "    weights = 'imagenet',\n",
        "    pooling = 'avg'\n",
        ")\n",
        "mobilenet_.trainable = False"
      ],
      "metadata": {
        "colab": {
          "base_uri": "https://localhost:8080/"
        },
        "id": "rV00FR-SNNhX",
        "outputId": "16bc8480-4335-45ea-b527-870c8aa807ef"
      },
      "execution_count": null,
      "outputs": [
        {
          "output_type": "stream",
          "name": "stderr",
          "text": [
            "WARNING:tensorflow:`input_shape` is undefined or non-square, or `rows` is not in [96, 128, 160, 192, 224]. Weights for input shape (224, 224) will be loaded as the default.\n"
          ]
        }
      ]
    },
    {
      "cell_type": "code",
      "source": [
        "inputs = mobilenet_.input\n",
        "x = Dense(128, activation = 'relu')(mobilenet_.output)\n",
        "x = Dense(128, activation = 'relu')(x)\n",
        "outputs = Dense(num_classes, activation = 'softmax')(x)\n",
        "\n",
        "mobilenet = Model(inputs = inputs, outputs = outputs)"
      ],
      "metadata": {
        "id": "Xxt6J6xOPEXd"
      },
      "execution_count": null,
      "outputs": []
    },
    {
      "cell_type": "code",
      "source": [
        "early_stopping = EarlyStopping(\n",
        "    monitor = 'val_loss',\n",
        "    mode = 'min',\n",
        "    patience = 2,\n",
        "    verbose = 1,\n",
        "    restore_best_weights = True\n",
        ")\n",
        "\n",
        "checkpoint = ModelCheckpoint('/meow/',\n",
        "                             monitor = 'val_loss',\n",
        "                             mode = 'min',\n",
        "                             save_best_only = True)\n",
        "\n",
        "callbacks = [early_stopping, checkpoint]\n"
      ],
      "metadata": {
        "id": "SBJ_d_j4PH_d"
      },
      "execution_count": null,
      "outputs": []
    },
    {
      "cell_type": "code",
      "source": [
        "mobilenet.compile(optimizer='adam', loss='categorical_crossentropy', metrics = ['accuracy'])\n",
        "\n",
        "history = mobilenet.fit(\n",
        "    train, validation_data = validation,\n",
        "    batch_size = 32,\n",
        "    epochs = 15,\n",
        "    callbacks = callbacks\n",
        ")"
      ],
      "metadata": {
        "colab": {
          "base_uri": "https://localhost:8080/"
        },
        "id": "XGz5_GUePlZ9",
        "outputId": "a52cb4ba-b252-48e2-cea5-761a89e680db"
      },
      "execution_count": null,
      "outputs": [
        {
          "output_type": "stream",
          "name": "stdout",
          "text": [
            "Epoch 1/15\n",
            "10/10 [==============================] - ETA: 0s - loss: 3.6565 - accuracy: 0.1149"
          ]
        },
        {
          "output_type": "stream",
          "name": "stderr",
          "text": [
            "WARNING:absl:Found untraced functions such as _jit_compiled_convolution_op, _jit_compiled_convolution_op, _jit_compiled_convolution_op, _jit_compiled_convolution_op, _jit_compiled_convolution_op while saving (showing 5 of 53). These functions will not be directly callable after loading.\n"
          ]
        },
        {
          "output_type": "stream",
          "name": "stdout",
          "text": [
            "\b\b\b\b\b\b\b\b\b\b\b\b\b\b\b\b\b\b\b\b\b\b\b\b\b\b\b\b\b\b\b\b\b\b\b\b\b\b\b\b\b\b\b\b\b\b\b\b\b\b\b\b\b\b\b\b\b\b\b\b\b\b\b\b\b\b\b\b\b\b\b\b\b\b\b\b\b\b\b\b\b\b\r10/10 [==============================] - 52s 5s/step - loss: 3.6565 - accuracy: 0.1149 - val_loss: 3.5748 - val_accuracy: 0.1364\n",
            "Epoch 2/15\n",
            "10/10 [==============================] - ETA: 0s - loss: 2.7742 - accuracy: 0.3851"
          ]
        },
        {
          "output_type": "stream",
          "name": "stderr",
          "text": [
            "WARNING:absl:Found untraced functions such as _jit_compiled_convolution_op, _jit_compiled_convolution_op, _jit_compiled_convolution_op, _jit_compiled_convolution_op, _jit_compiled_convolution_op while saving (showing 5 of 53). These functions will not be directly callable after loading.\n"
          ]
        },
        {
          "output_type": "stream",
          "name": "stdout",
          "text": [
            "\b\b\b\b\b\b\b\b\b\b\b\b\b\b\b\b\b\b\b\b\b\b\b\b\b\b\b\b\b\b\b\b\b\b\b\b\b\b\b\b\b\b\b\b\b\b\b\b\b\b\b\b\b\b\b\b\b\b\b\b\b\b\b\b\b\b\b\b\b\b\b\b\b\b\b\b\b\b\b\b\b\b\r10/10 [==============================] - 57s 6s/step - loss: 2.7742 - accuracy: 0.3851 - val_loss: 3.1442 - val_accuracy: 0.2955\n",
            "Epoch 3/15\n",
            "10/10 [==============================] - ETA: 0s - loss: 1.9702 - accuracy: 0.5912"
          ]
        },
        {
          "output_type": "stream",
          "name": "stderr",
          "text": [
            "WARNING:absl:Found untraced functions such as _jit_compiled_convolution_op, _jit_compiled_convolution_op, _jit_compiled_convolution_op, _jit_compiled_convolution_op, _jit_compiled_convolution_op while saving (showing 5 of 53). These functions will not be directly callable after loading.\n"
          ]
        },
        {
          "output_type": "stream",
          "name": "stdout",
          "text": [
            "\b\b\b\b\b\b\b\b\b\b\b\b\b\b\b\b\b\b\b\b\b\b\b\b\b\b\b\b\b\b\b\b\b\b\b\b\b\b\b\b\b\b\b\b\b\b\b\b\b\b\b\b\b\b\b\b\b\b\b\b\b\b\b\b\b\b\b\b\b\b\b\b\b\b\b\b\b\b\b\b\b\b\r10/10 [==============================] - 49s 5s/step - loss: 1.9702 - accuracy: 0.5912 - val_loss: 2.6587 - val_accuracy: 0.4318\n",
            "Epoch 4/15\n",
            "10/10 [==============================] - ETA: 0s - loss: 1.2973 - accuracy: 0.7297"
          ]
        },
        {
          "output_type": "stream",
          "name": "stderr",
          "text": [
            "WARNING:absl:Found untraced functions such as _jit_compiled_convolution_op, _jit_compiled_convolution_op, _jit_compiled_convolution_op, _jit_compiled_convolution_op, _jit_compiled_convolution_op while saving (showing 5 of 53). These functions will not be directly callable after loading.\n"
          ]
        },
        {
          "output_type": "stream",
          "name": "stdout",
          "text": [
            "\b\b\b\b\b\b\b\b\b\b\b\b\b\b\b\b\b\b\b\b\b\b\b\b\b\b\b\b\b\b\b\b\b\b\b\b\b\b\b\b\b\b\b\b\b\b\b\b\b\b\b\b\b\b\b\b\b\b\b\b\b\b\b\b\b\b\b\b\b\b\b\b\b\b\b\b\b\b\b\b\b\b\r10/10 [==============================] - 47s 5s/step - loss: 1.2973 - accuracy: 0.7297 - val_loss: 2.1053 - val_accuracy: 0.6136\n",
            "Epoch 5/15\n",
            "10/10 [==============================] - ETA: 0s - loss: 0.8848 - accuracy: 0.8142"
          ]
        },
        {
          "output_type": "stream",
          "name": "stderr",
          "text": [
            "WARNING:absl:Found untraced functions such as _jit_compiled_convolution_op, _jit_compiled_convolution_op, _jit_compiled_convolution_op, _jit_compiled_convolution_op, _jit_compiled_convolution_op while saving (showing 5 of 53). These functions will not be directly callable after loading.\n"
          ]
        },
        {
          "output_type": "stream",
          "name": "stdout",
          "text": [
            "\b\b\b\b\b\b\b\b\b\b\b\b\b\b\b\b\b\b\b\b\b\b\b\b\b\b\b\b\b\b\b\b\b\b\b\b\b\b\b\b\b\b\b\b\b\b\b\b\b\b\b\b\b\b\b\b\b\b\b\b\b\b\b\b\b\b\b\b\b\b\b\b\b\b\b\b\b\b\b\b\b\b\r10/10 [==============================] - 50s 5s/step - loss: 0.8848 - accuracy: 0.8142 - val_loss: 1.9209 - val_accuracy: 0.6364\n",
            "Epoch 6/15\n",
            "10/10 [==============================] - ETA: 0s - loss: 0.5956 - accuracy: 0.8919"
          ]
        },
        {
          "output_type": "stream",
          "name": "stderr",
          "text": [
            "WARNING:absl:Found untraced functions such as _jit_compiled_convolution_op, _jit_compiled_convolution_op, _jit_compiled_convolution_op, _jit_compiled_convolution_op, _jit_compiled_convolution_op while saving (showing 5 of 53). These functions will not be directly callable after loading.\n"
          ]
        },
        {
          "output_type": "stream",
          "name": "stdout",
          "text": [
            "\b\b\b\b\b\b\b\b\b\b\b\b\b\b\b\b\b\b\b\b\b\b\b\b\b\b\b\b\b\b\b\b\b\b\b\b\b\b\b\b\b\b\b\b\b\b\b\b\b\b\b\b\b\b\b\b\b\b\b\b\b\b\b\b\b\b\b\b\b\b\b\b\b\b\b\b\b\b\b\b\b\b\r10/10 [==============================] - 48s 5s/step - loss: 0.5956 - accuracy: 0.8919 - val_loss: 1.5311 - val_accuracy: 0.7045\n",
            "Epoch 7/15\n",
            "10/10 [==============================] - 26s 3s/step - loss: 0.3742 - accuracy: 0.9223 - val_loss: 1.6930 - val_accuracy: 0.7273\n",
            "Epoch 8/15\n",
            "10/10 [==============================] - ETA: 0s - loss: 0.2786 - accuracy: 0.9527"
          ]
        },
        {
          "output_type": "stream",
          "name": "stderr",
          "text": [
            "WARNING:absl:Found untraced functions such as _jit_compiled_convolution_op, _jit_compiled_convolution_op, _jit_compiled_convolution_op, _jit_compiled_convolution_op, _jit_compiled_convolution_op while saving (showing 5 of 53). These functions will not be directly callable after loading.\n"
          ]
        },
        {
          "output_type": "stream",
          "name": "stdout",
          "text": [
            "\b\b\b\b\b\b\b\b\b\b\b\b\b\b\b\b\b\b\b\b\b\b\b\b\b\b\b\b\b\b\b\b\b\b\b\b\b\b\b\b\b\b\b\b\b\b\b\b\b\b\b\b\b\b\b\b\b\b\b\b\b\b\b\b\b\b\b\b\b\b\b\b\b\b\b\b\b\b\b\b\b\b\r10/10 [==============================] - 47s 5s/step - loss: 0.2786 - accuracy: 0.9527 - val_loss: 1.4894 - val_accuracy: 0.6818\n",
            "Epoch 9/15\n",
            "10/10 [==============================] - ETA: 0s - loss: 0.1951 - accuracy: 0.9797"
          ]
        },
        {
          "output_type": "stream",
          "name": "stderr",
          "text": [
            "WARNING:absl:Found untraced functions such as _jit_compiled_convolution_op, _jit_compiled_convolution_op, _jit_compiled_convolution_op, _jit_compiled_convolution_op, _jit_compiled_convolution_op while saving (showing 5 of 53). These functions will not be directly callable after loading.\n"
          ]
        },
        {
          "output_type": "stream",
          "name": "stdout",
          "text": [
            "\b\b\b\b\b\b\b\b\b\b\b\b\b\b\b\b\b\b\b\b\b\b\b\b\b\b\b\b\b\b\b\b\b\b\b\b\b\b\b\b\b\b\b\b\b\b\b\b\b\b\b\b\b\b\b\b\b\b\b\b\b\b\b\b\b\b\b\b\b\b\b\b\b\b\b\b\b\b\b\b\b\b\r10/10 [==============================] - 45s 5s/step - loss: 0.1951 - accuracy: 0.9797 - val_loss: 1.4381 - val_accuracy: 0.7500\n",
            "Epoch 10/15\n",
            "10/10 [==============================] - 25s 2s/step - loss: 0.1664 - accuracy: 0.9764 - val_loss: 1.5039 - val_accuracy: 0.7273\n",
            "Epoch 11/15\n",
            "10/10 [==============================] - ETA: 0s - loss: 0.1372 - accuracy: 0.9865Restoring model weights from the end of the best epoch: 9.\n",
            "10/10 [==============================] - 24s 2s/step - loss: 0.1372 - accuracy: 0.9865 - val_loss: 1.4590 - val_accuracy: 0.7500\n",
            "Epoch 11: early stopping\n"
          ]
        }
      ]
    },
    {
      "cell_type": "code",
      "source": [
        "(eval_loss, eval_accuracy) = mobilenet.evaluate(test)"
      ],
      "metadata": {
        "colab": {
          "base_uri": "https://localhost:8080/"
        },
        "id": "igzMmJ4_P2ot",
        "outputId": "e539647c-ae85-462e-aa35-d5638a056511"
      },
      "execution_count": null,
      "outputs": [
        {
          "output_type": "stream",
          "name": "stdout",
          "text": [
            "2/2 [==============================] - 2s 369ms/step - loss: 1.5106 - accuracy: 0.7273\n"
          ]
        }
      ]
    },
    {
      "cell_type": "markdown",
      "source": [
        "# Прогоним на тестовой фигне"
      ],
      "metadata": {
        "id": "xqz1ppUUR9W0"
      }
    },
    {
      "cell_type": "code",
      "source": [
        "# получаем предсказанные значения от тестовых изображений\n",
        "pred = mobilenet.predict(test)\n",
        "# получаем номер класса с максимальным весом\n",
        "pred = np.argmax(pred,axis=1)\n",
        "# сопоставляем классы\n",
        "labels = (train.class_indices)\n",
        "labels = dict((v,k) for k,v in labels.items())\n",
        "pred = [labels[k] for k in pred]\n",
        "# получаем предсказанные классы\n",
        "y_test = [labels[k] for k in test.classes]\n",
        "# оцениваем точность\n",
        "from sklearn.metrics import accuracy_score\n",
        "acc = accuracy_score(y_test, pred)\n",
        "print(f'Accuracy on the test set: {100*acc:.2f}%')"
      ],
      "metadata": {
        "colab": {
          "base_uri": "https://localhost:8080/"
        },
        "id": "7pzOYwzSR_09",
        "outputId": "36c07083-547d-4210-e2a1-a38211f756df"
      },
      "execution_count": null,
      "outputs": [
        {
          "output_type": "stream",
          "name": "stdout",
          "text": [
            "2/2 [==============================] - 3s 403ms/step\n",
            "Accuracy on the test set: 65.91%\n"
          ]
        }
      ]
    },
    {
      "cell_type": "code",
      "source": [
        "mobilenet.save('meow/tmodel.h5')"
      ],
      "metadata": {
        "id": "3TPGRdZah6QC"
      },
      "execution_count": null,
      "outputs": []
    }
  ]
}